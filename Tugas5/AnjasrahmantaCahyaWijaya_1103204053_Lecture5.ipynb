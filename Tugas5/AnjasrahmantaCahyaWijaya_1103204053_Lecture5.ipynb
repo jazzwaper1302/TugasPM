{
  "nbformat": 4,
  "nbformat_minor": 0,
  "metadata": {
    "colab": {
      "provenance": [],
      "authorship_tag": "ABX9TyNpu/K7sVKf6KY9BcIU9qTg",
      "include_colab_link": true
    },
    "kernelspec": {
      "name": "python3",
      "display_name": "Python 3"
    },
    "language_info": {
      "name": "python"
    }
  },
  "cells": [
    {
      "cell_type": "markdown",
      "metadata": {
        "id": "view-in-github",
        "colab_type": "text"
      },
      "source": [
        "<a href=\"https://colab.research.google.com/github/jazzwaper1302/TugasPM/blob/main/Tugas5/AnjasrahmantaCahyaWijaya_1103204053_Lecture5.ipynb\" target=\"_parent\"><img src=\"https://colab.research.google.com/assets/colab-badge.svg\" alt=\"Open In Colab\"/></a>"
      ]
    },
    {
      "cell_type": "code",
      "execution_count": null,
      "metadata": {
        "id": "fnEiUo_E9h4J"
      },
      "outputs": [],
      "source": [
        "# Nama: [Nama Anda]\n",
        "# NIM: [Nomor Induk Mahasiswa Anda]\n",
        "# Judul Tugas: Praktik Dimensionality Reduction dengan Orange Data Mining\n",
        "\n",
        "# Import library Orange\n",
        "import Orange\n",
        "\n",
        "# Load dataset \"zoo\"\n",
        "data = Orange.data.Table(\"zoo\")\n",
        "\n",
        "# Proses reduksi dimensi menggunakan PCA\n",
        "pca = Orange.projection.PCA(n_components=2)  # Menggunakan 2 komponen utama\n",
        "projected_data = pca(data)\n",
        "\n",
        "# Menampilkan hasil reduksi dimensi\n",
        "print(\"Projected data shape:\", projected_data.X.shape)\n"
      ]
    }
  ]
}