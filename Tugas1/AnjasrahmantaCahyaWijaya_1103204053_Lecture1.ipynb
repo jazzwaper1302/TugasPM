{
  "nbformat": 4,
  "nbformat_minor": 0,
  "metadata": {
    "colab": {
      "provenance": [],
      "authorship_tag": "ABX9TyPUBxdkbwOWkSiIVXVyl3yj",
      "include_colab_link": true
    },
    "kernelspec": {
      "name": "python3",
      "display_name": "Python 3"
    },
    "language_info": {
      "name": "python"
    }
  },
  "cells": [
    {
      "cell_type": "markdown",
      "metadata": {
        "id": "view-in-github",
        "colab_type": "text"
      },
      "source": [
        "<a href=\"https://colab.research.google.com/github/jazzwaper1302/TugasPM/blob/main/Tugas1/AnjasrahmantaCahyaWijaya_1103204053_Lecture1.ipynb\" target=\"_parent\"><img src=\"https://colab.research.google.com/assets/colab-badge.svg\" alt=\"Open In Colab\"/></a>"
      ]
    },
    {
      "cell_type": "code",
      "execution_count": null,
      "metadata": {
        "id": "C2ijYWEV0Nhx"
      },
      "outputs": [],
      "source": [
        "# Nama: [Anjas Rahmanta Cahya Wijaya]\n",
        "# Email: [Jazzwaper001@gmail.com]\n",
        "# Universitas: [Telkom University]\n",
        "# Judul Tugas: LECTURE 1,Pembuatan Model Decision Tree dengan Dataset melb_house.csv\n",
        "\n",
        "# Import library yang diperlukan\n",
        "import pandas as pd\n",
        "from sklearn.model_selection import train_test_split\n",
        "from sklearn.tree import DecisionTreeRegressor\n",
        "from sklearn.metrics import mean_absolute_error\n",
        "\n",
        "# Mengunduh dataset 'melb_house.csv' dari URL\n",
        "!wget -O melb_house.csv https://raw.githubusercontent.com/datasets/house-prices-australia/master/data/melb_data.csv\n",
        "\n",
        "# Memuat dataset ke dalam dataframe\n",
        "df = pd.read_csv('melb_house.csv')\n",
        "\n",
        "# Menampilkan lima baris pertama dari dataframe\n",
        "print(\"Dataframe Preview:\")\n",
        "print(df.head())\n",
        "\n",
        "# Memilih fitur-fitur yang akan digunakan untuk membangun model\n",
        "features = ['Rooms', 'Bathroom', 'Landsize', 'BuildingArea', 'YearBuilt']\n",
        "X = df[features]\n",
        "y = df['Price']\n",
        "\n",
        "# Memisahkan data menjadi data pelatihan dan data uji\n",
        "X_train, X_test, y_train, y_test = train_test_split(X, y, test_size=0.2, random_state=42)\n",
        "\n",
        "# Membuat model Decision Tree Regressor\n",
        "model = DecisionTreeRegressor(random_state=42)\n",
        "\n",
        "# Melatih model menggunakan data pelatihan\n",
        "model.fit(X_train, y_train)\n",
        "\n",
        "# Memprediksi harga rumah menggunakan data uji\n",
        "y_pred = model.predict(X_test)\n",
        "\n",
        "# Menghitung Mean Absolute Error (MAE)\n",
        "mae = mean_absolute_error(y_test, y_pred)\n",
        "print(\"\\nMean Absolute Error:\", mae)\n"
      ]
    }
  ]
}