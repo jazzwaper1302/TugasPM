{
  "nbformat": 4,
  "nbformat_minor": 0,
  "metadata": {
    "colab": {
      "provenance": [],
      "include_colab_link": true
    },
    "kernelspec": {
      "name": "python3",
      "display_name": "Python 3"
    },
    "language_info": {
      "name": "python"
    }
  },
  "cells": [
    {
      "cell_type": "markdown",
      "metadata": {
        "id": "view-in-github",
        "colab_type": "text"
      },
      "source": [
        "<a href=\"https://colab.research.google.com/github/jazzwaper1302/TugasPM/blob/main/Tugas1/AnjasrahmantaCahyaWijaya_1103204053_Lecture1%262.ipynb\" target=\"_parent\"><img src=\"https://colab.research.google.com/assets/colab-badge.svg\" alt=\"Open In Colab\"/></a>"
      ]
    },
    {
      "cell_type": "code",
      "source": [],
      "metadata": {
        "id": "dfzdUppKxc4L"
      },
      "execution_count": null,
      "outputs": []
    },
    {
      "cell_type": "code",
      "execution_count": null,
      "metadata": {
        "id": "PcAjdWf4xa9o"
      },
      "outputs": [],
      "source": [
        "# Nama: [Anjas Rahmanta Cahya Wijaya]\n",
        "# Email: [Jazzwaper001@gmail.com]\n",
        "# Universitas: [Telkom University]\n",
        "# Judu; Tugas : LECTURE 2,linear Regression,Salary_Data_Simple_SVR.csv​\n",
        "\n",
        "#Import library\n",
        "import pandas as pd\n",
        "import numpy as np\n",
        "import matplotlib.pyplot as plt\n",
        "from sklearn.model_selection import train_test_split\n",
        "from sklearn.linear_model import LinearRegression\n",
        "from sklearn.metrics import mean_squared_error\n",
        "\n",
        "# Load data CSVnya\n",
        "data = pd.read_csv('Salary_Data_Simple_SVR.csv')\n",
        "\n",
        "# Menampilkan lima baris pertama dari dataset\n",
        "print(data.head())\n",
        "\n",
        "# Memisahkan atribut (X) dan label (y)\n",
        "X = data.iloc[:, :-1].values\n",
        "y = data.iloc[:, 1].values\n",
        "\n",
        "# Membagi dataset menjadi data latih dan data uji dengan perbandingan 80:20\n",
        "X_train, X_test, y_train, y_test = train_test_split(X, y, test_size=0.2, random_state=0)\n",
        "\n",
        "# Membuat objek model regresi linear\n",
        "model = LinearRegression()\n",
        "\n",
        "# Melatih model menggunakan data latih\n",
        "model.fit(X_train, y_train)\n",
        "\n",
        "# Membuat prediksi pada data uji\n",
        "y_pred = model.predict(X_test)\n",
        "\n",
        "# Menghitung error menggunakan Mean Squared Error\n",
        "mse = mean_squared_error(y_test, y_pred)\n",
        "\n",
        "# Menampilkan koefisien dan intercept dari model\n",
        "print('Koefisien: ', model.coef_)\n",
        "print('Intercept: ', model.intercept_)\n",
        "print('Mean Squared Error: ', mse)\n",
        "\n",
        "# Visualisasi data latih dan garis regresi\n",
        "plt.scatter(X_train, y_train, color='blue')\n",
        "plt.plot(X_train, model.predict(X_train), color='red')\n",
        "plt.title('Grafik Regresi Linear (Data Latih)')\n",
        "plt.xlabel('Pengalaman (Tahun)')\n",
        "plt.ylabel('Gaji ($)')\n",
        "plt.show()\n",
        "\n",
        "# Visualisasi data uji dan garis regresi\n",
        "plt.scatter(X_test, y_test, color='blue')\n",
        "plt.plot(X_train, model.predict(X_train), color='red') # Sama seperti plot di atas karena garis regresi sudah dipelajari dari data latih\n",
        "plt.title('Grafik Regresi Linear (Data Uji)')\n",
        "plt.xlabel('Pengalaman (Tahun)')\n",
        "plt.ylabel('Gaji ($)')\n",
        "plt.show()\n"
      ]
    },
    {
      "cell_type": "code",
      "source": [
        "# Nama: [Anjas Rahmanta Cahya Wijaya]\n",
        "# Email: [Jazzwaper001@gmail.com]\n",
        "# Universitas: [Telkom University]\n",
        "# Judu; Tugas : LECTURE 2,logistic regression,Salary_Data_Simple_SVR.csv​\n",
        "\n",
        "# Import library yang diperlukan\n",
        "import pandas as pd\n",
        "import numpy as np\n",
        "import matplotlib.pyplot as plt\n",
        "from sklearn.model_selection import train_test_split\n",
        "from sklearn.preprocessing import PolynomialFeatures\n",
        "from sklearn.linear_model import LinearRegression\n",
        "from sklearn.metrics import mean_squared_error\n",
        "\n",
        "# Load dataset dari file CSV\n",
        "data = pd.read_csv('Car_Sales.csv')\n",
        "\n",
        "# Menampilkan lima baris pertama dari dataset\n",
        "print(data.head())\n",
        "\n",
        "# Memisahkan atribut (X) dan label (y)\n",
        "X = data.iloc[:, :-1].values\n",
        "y = data.iloc[:, -1].values\n",
        "\n",
        "# Membagi dataset menjadi data latih dan data uji dengan perbandingan 80:20\n",
        "X_train, X_test, y_train, y_test = train_test_split(X, y, test_size=0.2, random_state=0)\n",
        "\n",
        "# Mengubah atribut menjadi bentuk polynomial\n",
        "poly = PolynomialFeatures(degree=2)\n",
        "X_poly = poly.fit_transform(X_train)\n",
        "\n",
        "# Membuat objek model regresi linear\n",
        "model = LinearRegression()\n",
        "\n",
        "# Melatih model menggunakan data latih yang sudah diubah menjadi polynomial\n",
        "model.fit(X_poly, y_train)\n",
        "\n",
        "# Membuat prediksi pada data uji\n",
        "y_pred = model.predict(poly.transform(X_test))\n",
        "\n",
        "# Menghitung error menggunakan Mean Squared Error\n",
        "mse = mean_squared_error(y_test, y_pred)\n",
        "\n",
        "# Menampilkan koefisien dari model\n",
        "print('Koefisien: ', model.coef_)\n",
        "print('Intercept: ', model.intercept_)\n",
        "print('Mean Squared Error: ', mse)\n",
        "\n",
        "# Visualisasi data latih dan garis regresi polynomial\n",
        "plt.scatter(X_train, y_train, color='blue')\n",
        "plt.plot(X_train, model.predict(poly.transform(X_train)), color='red')\n",
        "plt.title('Grafik Polynomial Regression (Data Latih)')\n",
        "plt.xlabel('Atribut')\n",
        "plt.ylabel('Label')\n",
        "plt.show()\n",
        "\n",
        "# Visualisasi data uji dan garis regresi polynomial\n",
        "plt.scatter(X_test, y_test, color='blue')\n",
        "plt.plot(X_test, y_pred, color='red')\n",
        "plt.title('Grafik Polynomial Regression (Data Uji)')\n",
        "plt.xlabel('Atribut')\n",
        "plt.ylabel('Label')\n",
        "plt.show()\n"
      ],
      "metadata": {
        "id": "OfXaTbflzogP"
      },
      "execution_count": null,
      "outputs": []
    }
  ]
}