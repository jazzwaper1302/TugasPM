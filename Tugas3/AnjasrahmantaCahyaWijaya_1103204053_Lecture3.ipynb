{
  "nbformat": 4,
  "nbformat_minor": 0,
  "metadata": {
    "colab": {
      "provenance": [],
      "authorship_tag": "ABX9TyOUhLpl4cXLNrFO537Yes97",
      "include_colab_link": true
    },
    "kernelspec": {
      "name": "python3",
      "display_name": "Python 3"
    },
    "language_info": {
      "name": "python"
    }
  },
  "cells": [
    {
      "cell_type": "markdown",
      "metadata": {
        "id": "view-in-github",
        "colab_type": "text"
      },
      "source": [
        "<a href=\"https://colab.research.google.com/github/jazzwaper1302/TugasPM/blob/main/Tugas3/AnjasrahmantaCahyaWijaya_1103204053_Lecture3.ipynb\" target=\"_parent\"><img src=\"https://colab.research.google.com/assets/colab-badge.svg\" alt=\"Open In Colab\"/></a>"
      ]
    },
    {
      "cell_type": "code",
      "execution_count": 1,
      "metadata": {
        "colab": {
          "base_uri": "https://localhost:8080/"
        },
        "id": "eKKpgBoitcbA",
        "outputId": "a47c3158-09e4-4517-aa13-be4c1634cd78"
      },
      "outputs": [
        {
          "output_type": "stream",
          "name": "stdout",
          "text": [
            "Accuracy of Decision Tree: 1.0\n",
            "Classification Report of Decision Tree:\n",
            "               precision    recall  f1-score   support\n",
            "\n",
            "           0       1.00      1.00      1.00        10\n",
            "           1       1.00      1.00      1.00         9\n",
            "           2       1.00      1.00      1.00        11\n",
            "\n",
            "    accuracy                           1.00        30\n",
            "   macro avg       1.00      1.00      1.00        30\n",
            "weighted avg       1.00      1.00      1.00        30\n",
            "\n",
            "Accuracy of KNN: 1.0\n",
            "Classification Report of KNN:\n",
            "               precision    recall  f1-score   support\n",
            "\n",
            "           0       1.00      1.00      1.00        10\n",
            "           1       1.00      1.00      1.00         9\n",
            "           2       1.00      1.00      1.00        11\n",
            "\n",
            "    accuracy                           1.00        30\n",
            "   macro avg       1.00      1.00      1.00        30\n",
            "weighted avg       1.00      1.00      1.00        30\n",
            "\n"
          ]
        }
      ],
      "source": [
        "# Nama: [Anjas Rahmanta Cahya Wijaya]\n",
        "# Email: [Jazzwaper001@gmail.com]\n",
        "# Universitas: [Telkom University]\n",
        "# Judu; Tugas : LECTURE 3,model decision tree dan KNN dengan dataset iris\n",
        "\n",
        "# Import library yang diperlukan\n",
        "from sklearn.datasets import load_iris\n",
        "from sklearn.model_selection import train_test_split\n",
        "from sklearn.tree import DecisionTreeClassifier\n",
        "from sklearn.neighbors import KNeighborsClassifier\n",
        "from sklearn.metrics import accuracy_score, classification_report\n",
        "\n",
        "# Memuat dataset iris\n",
        "iris = load_iris()\n",
        "X = iris.data  # Fitur-fitur\n",
        "y = iris.target  # Label\n",
        "# Pembagian dataset menjadi data pelatihan dan data uji\n",
        "X_train, X_test, y_train, y_test = train_test_split(X, y, test_size=0.2, random_state=42)\n",
        "# Membuat model Decision Tree\n",
        "dt_classifier = DecisionTreeClassifier()\n",
        "# Melatih model\n",
        "dt_classifier.fit(X_train, y_train)\n",
        "# Memprediksi label menggunakan model Decision Tree\n",
        "y_pred_dt = dt_classifier.predict(X_test)\n",
        "# Mengukur akurasi\n",
        "accuracy_dt = accuracy_score(y_test, y_pred_dt)\n",
        "print(\"Accuracy of Decision Tree:\", accuracy_dt)\n",
        "# Menampilkan laporan klasifikasi\n",
        "print(\"Classification Report of Decision Tree:\\n\", classification_report(y_test, y_pred_dt))\n",
        "# Membuat model KNN\n",
        "knn_classifier = KNeighborsClassifier(n_neighbors=3)  # Contoh dengan 3 tetangga terdekat\n",
        "# Melatih model\n",
        "knn_classifier.fit(X_train, y_train)\n",
        "# Memprediksi label menggunakan model KNN\n",
        "y_pred_knn = knn_classifier.predict(X_test)\n",
        "# Mengukur akurasi\n",
        "accuracy_knn = accuracy_score(y_test, y_pred_knn)\n",
        "print(\"Accuracy of KNN:\", accuracy_knn)\n",
        "# Menampilkan laporan klasifikasi\n",
        "print(\"Classification Report of KNN:\\n\", classification_report(y_test, y_pred_knn))\n",
        "\n"
      ]
    }
  ]
}