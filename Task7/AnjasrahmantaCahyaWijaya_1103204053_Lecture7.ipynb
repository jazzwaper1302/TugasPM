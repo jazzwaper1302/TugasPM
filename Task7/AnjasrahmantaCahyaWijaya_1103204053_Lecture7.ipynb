{
  "nbformat": 4,
  "nbformat_minor": 0,
  "metadata": {
    "colab": {
      "provenance": [],
      "authorship_tag": "ABX9TyOVyqzyyD1yuBn/MOo2Md7y",
      "include_colab_link": true
    },
    "kernelspec": {
      "name": "python3",
      "display_name": "Python 3"
    },
    "language_info": {
      "name": "python"
    }
  },
  "cells": [
    {
      "cell_type": "markdown",
      "metadata": {
        "id": "view-in-github",
        "colab_type": "text"
      },
      "source": [
        "<a href=\"https://colab.research.google.com/github/jazzwaper1302/TugasPM/blob/main/Task7/AnjasrahmantaCahyaWijaya_1103204053_Lecture7.ipynb\" target=\"_parent\"><img src=\"https://colab.research.google.com/assets/colab-badge.svg\" alt=\"Open In Colab\"/></a>"
      ]
    },
    {
      "cell_type": "code",
      "execution_count": null,
      "metadata": {
        "id": "zdd_dI7u_rWT"
      },
      "outputs": [],
      "source": [
        "#Nama : Anjas Rahmanta Cahya Wijaya\n",
        "#Nim : 1103204053\n",
        "#Task : 7\n",
        "import pandas as pd\n",
        "import numpy as np\n",
        "import matplotlib.pyplot as plt\n",
        "from xgboost import XGBRegressor\n",
        "from sklearn.model_selection import train_test_split\n",
        "from sklearn.metrics import mean_squared_error\n",
        "\n",
        "# Load dataset\n",
        "df = pd.read_csv(\"melb_data.csv\")\n",
        "\n",
        "# Explore data\n",
        "print(df.head())\n",
        "print(df.info())\n",
        "print(df.describe())\n",
        "\n",
        "# Data preprocessing (if needed)\n",
        "\n",
        "# Selecting features and target variable\n",
        "X = df.drop(columns=['Price'])  # Features\n",
        "y = df['Price']  # Target variable\n",
        "\n",
        "# Splitting the dataset into the Training set and Test set\n",
        "X_train, X_test, y_train, y_test = train_test_split(X, y, test_size=0.2, random_state=42)\n",
        "\n",
        "# Creating and training the XGBoost model\n",
        "model = XGBRegressor()\n",
        "model.fit(X_train, y_train)\n",
        "\n",
        "# Making predictions\n",
        "y_pred = model.predict(X_test)\n",
        "\n",
        "# Evaluating the model\n",
        "rmse = np.sqrt(mean_squared_error(y_test, y_pred))\n",
        "print(\"Root Mean Squared Error:\", rmse)\n",
        "\n",
        "# Feature importance\n",
        "feature_importance = model.feature_importances_\n",
        "plt.barh(X.columns, feature_importance)\n",
        "plt.xlabel('Feature Importance')\n",
        "plt.ylabel('Features')\n",
        "plt.title('Feature Importance Plot')\n",
        "plt.show()\n"
      ]
    }
  ]
}