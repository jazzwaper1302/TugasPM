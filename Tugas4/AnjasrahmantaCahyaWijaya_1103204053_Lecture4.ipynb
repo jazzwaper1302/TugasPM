{
  "nbformat": 4,
  "nbformat_minor": 0,
  "metadata": {
    "colab": {
      "provenance": [],
      "authorship_tag": "ABX9TyO46z37WAUvtZAqD4P6HlS2",
      "include_colab_link": true
    },
    "kernelspec": {
      "name": "python3",
      "display_name": "Python 3"
    },
    "language_info": {
      "name": "python"
    }
  },
  "cells": [
    {
      "cell_type": "markdown",
      "metadata": {
        "id": "view-in-github",
        "colab_type": "text"
      },
      "source": [
        "<a href=\"https://colab.research.google.com/github/jazzwaper1302/TugasPM/blob/main/Tugas4/AnjasrahmantaCahyaWijaya_1103204053_Lecture4.ipynb\" target=\"_parent\"><img src=\"https://colab.research.google.com/assets/colab-badge.svg\" alt=\"Open In Colab\"/></a>"
      ]
    },
    {
      "cell_type": "code",
      "execution_count": null,
      "metadata": {
        "id": "BuTh2ACW7CSf"
      },
      "outputs": [],
      "source": [
        "# Nama: [Anjas Rahmanta Cahya Wijaya]\n",
        "# Email: [Jazzwaper001@gmail.com]\n",
        "# Universitas: [Telkom University]\n",
        "# Judul Tugas:LECTURE 4, Data Visualization dengan Dataset Diamonds.csv di Google Colab\n",
        "\n",
        "# Import library yang diperlukan\n",
        "import pandas as pd\n",
        "import matplotlib.pyplot as plt\n",
        "import seaborn as sns\n",
        "\n",
        "# Load dataset Diamonds.csv\n",
        "diamonds_df = pd.read_csv('Diamonds.csv')\n",
        "\n",
        "# Menampilkan lima baris pertama dari dataframe\n",
        "print(\"Dataframe Preview:\")\n",
        "print(diamonds_df.head())\n",
        "\n",
        "# Scatter plot untuk memvisualisasikan hubungan antara carat dan price\n",
        "plt.figure(figsize=(10, 6))\n",
        "sns.scatterplot(x='carat', y='price', data=diamonds_df, color='blue', alpha=0.5)\n",
        "plt.title('Scatter Plot of Carat vs Price', fontsize=16)\n",
        "plt.xlabel('Carat', fontsize=14)\n",
        "plt.ylabel('Price', fontsize=14)\n",
        "plt.xticks(fontsize=12)\n",
        "plt.yticks(fontsize=12)\n",
        "plt.grid(True)\n",
        "plt.show()\n",
        "\n",
        "# Bar plot untuk memvisualisasikan distribusi clarity\n",
        "plt.figure(figsize=(10, 6))\n",
        "sns.countplot(x='clarity', data=diamonds_df, palette='viridis')\n",
        "plt.title('Bar Plot of Clarity', fontsize=16)\n",
        "plt.xlabel('Clarity', fontsize=14)\n",
        "plt.ylabel('Count', fontsize=14)\n",
        "plt.xticks(fontsize=12)\n",
        "plt.yticks(fontsize=12)\n",
        "plt.grid(axis='y')\n",
        "plt.show()\n",
        "\n",
        "# Histogram untuk memvisualisasikan distribusi price\n",
        "plt.figure(figsize=(10, 6))\n",
        "sns.histplot(data=diamonds_df, x='price', bins=30, kde=True, color='green')\n",
        "plt.title('Histogram of Price', fontsize=16)\n",
        "plt.xlabel('Price', fontsize=14)\n",
        "plt.ylabel('Frequency', fontsize=14)\n",
        "plt.xticks(fontsize=12)\n",
        "plt.yticks(fontsize=12)\n",
        "plt.grid(axis='y')\n",
        "plt.show()\n",
        "\n",
        "# Box plot untuk memvisualisasikan distribusi price berdasarkan clarity\n",
        "plt.figure(figsize=(10, 6))\n",
        "sns.boxplot(x='clarity', y='price', data=diamonds_df, palette='magma')\n",
        "plt.title('Box Plot of Price by Clarity', fontsize=16)\n",
        "plt.xlabel('Clarity', fontsize=14)\n",
        "plt.ylabel('Price', fontsize=14)\n",
        "plt.xticks(fontsize=12)\n",
        "plt.yticks(fontsize=12)\n",
        "plt.grid(axis='y')\n",
        "plt.show()\n",
        "\n",
        "# Heatmap untuk memvisualisasikan korelasi antara variabel numerik\n",
        "plt.figure(figsize=(10, 6))\n",
        "sns.heatmap(diamonds_df.corr(), annot=True, cmap='coolwarm')\n",
        "plt.title('Heatmap of Correlation Matrix', fontsize=16)\n",
        "plt.xticks(fontsize=12)\n",
        "plt.yticks(fontsize=12)\n",
        "plt.show()\n"
      ]
    }
  ]
}